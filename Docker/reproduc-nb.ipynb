{
 "cells": [
  {
   "cell_type": "markdown",
   "id": "f2fb7936",
   "metadata": {},
   "source": [
    "# Reproducibility notebook\n",
    "\n",
    "This notebook is included with the Docker image for reproducing all analyses related to the manuscript titled **\"The mental rotation of visual features and feature conjunctions\" (Weskler et al.)**. See more on https://github.com/EitanHemed/aw-mr-ms."
   ]
  },
  {
   "cell_type": "code",
   "execution_count": null,
   "id": "e149db46",
   "metadata": {},
   "outputs": [],
   "source": [
    "from IPython.display import Image"
   ]
  },
  {
   "cell_type": "markdown",
   "id": "dc96798f",
   "metadata": {},
   "source": [
    "## Display the existing output, as shared on GitHub"
   ]
  },
  {
   "cell_type": "code",
   "execution_count": null,
   "id": "d2919104",
   "metadata": {},
   "outputs": [],
   "source": [
    "!ls -R | grep \":$\" | sed -e 's/:$//' -e 's/[^-][^\\/]*\\//--/g' -e 's/^/   /' -e 's/-/|/'"
   ]
  },
  {
   "cell_type": "markdown",
   "id": "eb928746",
   "metadata": {},
   "source": [
    "You can clear all existing output, by running the following two cells"
   ]
  },
  {
   "cell_type": "code",
   "execution_count": null,
   "id": "c2b86de8",
   "metadata": {},
   "outputs": [],
   "source": [
    "!rm -r Experiments/E0/Output\n",
    "!rm -r Experiments/E1/Output"
   ]
  },
  {
   "cell_type": "code",
   "execution_count": null,
   "id": "9b8f4d54",
   "metadata": {},
   "outputs": [],
   "source": [
    "ls -R | grep \":$\" | sed -e 's/:$//' -e 's/[^-][^\\/]*\\//--/g' -e 's/^/   /' -e 's/-/|/'"
   ]
  },
  {
   "cell_type": "markdown",
   "id": "2957e4d5",
   "metadata": {},
   "source": [
    "## Re-run all analyses\n",
    "Once run, all output is available under the output folder, of each respective experiment. Note that under `Output` there\n",
    "are different directories, depending on the set of screening criteria you choose to set (see `screening_params_sets.json`)."
   ]
  },
  {
   "cell_type": "code",
   "execution_count": null,
   "id": "6b819120",
   "metadata": {},
   "outputs": [],
   "source": [
    "# Run the pipeline. This takes 2-3 minutes\n",
    "!python run_pipeline.py >/dev/null 2>&1\n",
    "\n",
    "## Alternatively, uncomment and run the following\n",
    "# import run_pipeline\n",
    "# run_pipeline.main()\n",
    "\n",
    "# Display the plot of results of E1, for example, once finished. \n",
    "Image(filename='Experiments/E1/Output/Analyses/1cbd2c772d2780a39b3cc6b1cc26b9d4/Figures/main_raincloud_plot.png', width=400) "
   ]
  },
  {
   "cell_type": "code",
   "execution_count": null,
   "id": "f3a33917-ebf8-4d3b-a97b-3481c90283ec",
   "metadata": {},
   "outputs": [],
   "source": [
    "# Once run, you can also view here (or through browsing files) the textual reports of screening, statistical tests, etc. \n",
    "!cat 'Experiments/E0/Output/Analyses/1cbd2c772d2780a39b3cc6b1cc26b9d4/Texts/report.txt'"
   ]
  }
 ],
 "metadata": {
  "kernelspec": {
   "display_name": "Python 3 (ipykernel)",
   "language": "python",
   "name": "python3"
  },
  "language_info": {
   "codemirror_mode": {
    "name": "ipython",
    "version": 3
   },
   "file_extension": ".py",
   "mimetype": "text/x-python",
   "name": "python",
   "nbconvert_exporter": "python",
   "pygments_lexer": "ipython3",
   "version": "3.9.12"
  }
 },
 "nbformat": 4,
 "nbformat_minor": 5
}
